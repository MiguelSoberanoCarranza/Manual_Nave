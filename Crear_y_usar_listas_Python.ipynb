{
 "cells": [
  {
   "cell_type": "markdown",
   "metadata": {},
   "source": [
    "# Ejercicio1: Crear y usar listas de Python\n",
    "#### Ejercicio: Usar listas para almacenar nombres de planetas"
   ]
  },
  {
   "cell_type": "markdown",
   "metadata": {},
   "source": [
    "#### En primer lugar, crea una variable denominada planets. Agrega los ocho planetas (sin Plutón) a la lista. A continuación, muestra el número de planetas."
   ]
  },
  {
   "cell_type": "code",
   "execution_count": 7,
   "metadata": {},
   "outputs": [
    {
     "name": "stdout",
     "output_type": "stream",
     "text": [
      "El total de planetas en la lista son :  7\n",
      "El ultimo planeta agregado es : Pluton\n"
     ]
    }
   ],
   "source": [
    "planets = ['Mercurio','Venus','Tierra','Marte','Jupiter','Saturno','Neptuno']\n",
    "\n",
    "print('El total de planetas en la lista son : ', len(planets))\n",
    "\n",
    "planets.append('Pluton')\n",
    "\n",
    "print('El ultimo planeta agregado es :' , planets[-1])\n"
   ]
  },
  {
   "cell_type": "markdown",
   "metadata": {},
   "source": [
    "# Ejercicio 2: Trabajando con datos de una lista\n",
    "### Usar slices para recuperar partes de una lista"
   ]
  },
  {
   "cell_type": "code",
   "execution_count": 20,
   "metadata": {},
   "outputs": [
    {
     "name": "stdout",
     "output_type": "stream",
     "text": [
      "Estos son los planetas mas cercanos al sol que  Marte\n",
      "['Mercurio', 'Venus', 'Tierra']\n",
      "Estos son los planetas mas Lejos al sol que  Marte\n",
      "['Jupiter', 'Saturno', 'Neptuno']\n"
     ]
    }
   ],
   "source": [
    "planets = ['Mercurio','Venus','Tierra','Marte','Jupiter','Saturno','Neptuno']\n",
    "\n",
    "Busqueda_planeta = input('Agrega un planeta (empezando con mayusculas)')\n",
    "\n",
    "planets_index = planets.index(Busqueda_planeta)\n",
    "\n",
    "print('Estos son los planetas mas cercanos al sol que  ' + Busqueda_planeta)\n",
    "print(planets[0:planets_index])\n",
    "\n",
    "\n",
    "print('Estos son los planetas mas Lejos al sol que  ' + Busqueda_planeta)\n",
    "print(planets[planets_index + 1:])\n"
   ]
  }
 ],
 "metadata": {
  "interpreter": {
   "hash": "6df0e58c50903a42bc027d0029c05572bdd06328d426898634fa92a604427f47"
  },
  "kernelspec": {
   "display_name": "Python 3.10.2 64-bit (windows store)",
   "language": "python",
   "name": "python3"
  },
  "language_info": {
   "codemirror_mode": {
    "name": "ipython",
    "version": 3
   },
   "file_extension": ".py",
   "mimetype": "text/x-python",
   "name": "python",
   "nbconvert_exporter": "python",
   "pygments_lexer": "ipython3",
   "version": "3.10.2"
  },
  "orig_nbformat": 4
 },
 "nbformat": 4,
 "nbformat_minor": 2
}
