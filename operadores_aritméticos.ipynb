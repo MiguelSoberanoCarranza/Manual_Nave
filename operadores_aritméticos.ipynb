{
 "cells": [
  {
   "cell_type": "markdown",
   "metadata": {},
   "source": []
  },
  {
   "cell_type": "markdown",
   "metadata": {},
   "source": [
    "# Ejercicio1 - Utilizar operadores aritméticos"
   ]
  },
  {
   "cell_type": "markdown",
   "metadata": {},
   "source": [
    "# Comenzaremos usando dos distancias de planetas: Tierra (149.597.870 km) y Júpiter (778.547.200 km)."
   ]
  },
  {
   "cell_type": "code",
   "execution_count": 41,
   "metadata": {},
   "outputs": [],
   "source": [
    "tierra = 149597.870\n",
    "jupiter= 778547.200\n"
   ]
  },
  {
   "cell_type": "markdown",
   "metadata": {},
   "source": [
    "## Realizar la operación\n",
    "Con los valores obtenidos, es el momento de añadir el código para realizar la operación. Restarás el primer planeta del segundo para determinar la distancia en kilómetros. A continuación, puedes convertir la distancia del kilómetro en millas multiplicándola por 0.621."
   ]
  },
  {
   "cell_type": "code",
   "execution_count": 42,
   "metadata": {},
   "outputs": [
    {
     "name": "stdout",
     "output_type": "stream",
     "text": [
      "La distancia entre tierra y jupiter es de : 628949.33 km.\n",
      "La distancia entre tierra y jupiter es de : 390577.53393 Millas.\n"
     ]
    }
   ],
   "source": [
    "distanciaKM= jupiter - tierra\n",
    "print('La distancia entre tierra y jupiter es de : ' + str(distanciaKM) + ' km.')\n",
    "\n",
    "distanciaMI = distanciaKM * 0.621\n",
    "\n",
    "print('La distancia entre tierra y jupiter es de : ' + str(distanciaMI) + ' Millas.')"
   ]
  },
  {
   "cell_type": "markdown",
   "metadata": {},
   "source": [
    "# Ejercicio 2: convierte cadenas en números y usa valores absoluto"
   ]
  },
  {
   "cell_type": "markdown",
   "metadata": {},
   "source": [
    "#### Usando input, agrega el código para leer la distancia del sol para cada planeta, considerando 2 planetas."
   ]
  },
  {
   "cell_type": "code",
   "execution_count": 43,
   "metadata": {},
   "outputs": [],
   "source": [
    "PrimerPlaneta = input('Cual es la distancia del primer planeta?')\n",
    "SegundoPlaneta = input('Cual es la distancia del Segundo planeta?')\n",
    "\n"
   ]
  },
  {
   "cell_type": "markdown",
   "metadata": {},
   "source": [
    "### Debido a que input devuelve valores de cadena, necesitamos convertirlos en números. Para nuestro ejemplo, usaremos int"
   ]
  },
  {
   "cell_type": "code",
   "execution_count": 44,
   "metadata": {},
   "outputs": [],
   "source": [
    "PrimerPlaneta=int(PrimerPlaneta)\n",
    "SegundoPlaneta= int(SegundoPlaneta)"
   ]
  },
  {
   "cell_type": "markdown",
   "metadata": {},
   "source": [
    "#### Con los valores almacenados como números, ahora puedes agregar el código para realizar el cálculo, restando el primer planeta del segundo. Debido a que el segundo planeta podría ser un número mayor, usarás abs para convertirlo a un valor absoluto. También agregarás el código para mostrar el resultado en millas multiplicando la distancia del kilómetro por 0.621"
   ]
  },
  {
   "cell_type": "code",
   "execution_count": 45,
   "metadata": {},
   "outputs": [
    {
     "name": "stdout",
     "output_type": "stream",
     "text": [
      "La distancia entre tierra y jupiter es de : 10000 km.\n",
      "La distancia entre tierra y jupiter es de : 6210.0 Millas.\n"
     ]
    }
   ],
   "source": [
    "distanciaKM=  SegundoPlaneta -PrimerPlaneta\n",
    "print('La distancia entre tierra y jupiter es de : ' + str(abs(distanciaKM)) + ' km.')\n",
    "\n",
    "distanciaMI = distanciaKM * 0.621\n",
    "\n",
    "print('La distancia entre tierra y jupiter es de : ' + str(abs(distanciaMI)) + ' Millas.')"
   ]
  }
 ],
 "metadata": {
  "interpreter": {
   "hash": "6df0e58c50903a42bc027d0029c05572bdd06328d426898634fa92a604427f47"
  },
  "kernelspec": {
   "display_name": "Python 3.10.2 64-bit (windows store)",
   "language": "python",
   "name": "python3"
  },
  "language_info": {
   "codemirror_mode": {
    "name": "ipython",
    "version": 3
   },
   "file_extension": ".py",
   "mimetype": "text/x-python",
   "name": "python",
   "nbconvert_exporter": "python",
   "pygments_lexer": "ipython3",
   "version": "3.10.2"
  },
  "orig_nbformat": 4
 },
 "nbformat": 4,
 "nbformat_minor": 2
}
