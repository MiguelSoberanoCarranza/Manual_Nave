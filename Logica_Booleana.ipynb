{
 "cells": [
  {
   "cell_type": "markdown",
   "metadata": {},
   "source": [
    "# ALERTA ASTEROIDE\n",
    "# Añadir el código necesario para crear una variable que guarde la velocidad del asteroide.\n",
    "# Escribe una expresión de prueba para calcular si necesita una advertencia.\n",
    "# Agregue las instrucciones que se ejecutarán si la expresión de prueba es true o false."
   ]
  },
  {
   "cell_type": "code",
   "execution_count": 8,
   "metadata": {},
   "outputs": [
    {
     "name": "stdout",
     "output_type": "stream",
     "text": [
      "¡Alerta!¡Alerta!¡Alerta!  ¡asteroide se acerca muy rapidamente!\n"
     ]
    }
   ],
   "source": [
    "asteroide= 49\n",
    "if asteroide > 25:\n",
    "    print('¡Advertencia!   ¡Asteroide se acerca muy rapidamente!')\n",
    "\n",
    "else:\n",
    "    print('Sin novedad')\n"
   ]
  },
  {
   "cell_type": "markdown",
   "metadata": {},
   "source": [
    "# Agrega el código para crear una variable para un asteroide que viaja a 19 km/s\n",
    "# Escribe varias expresiones de prueba para determinar si puedes ver el rayo de luz desde la tierra\n",
    "# Agrega las instrucciones que se ejecutarán si las expresiones de prueba son True o False"
   ]
  },
  {
   "cell_type": "code",
   "execution_count": 10,
   "metadata": {},
   "outputs": [
    {
     "name": "stdout",
     "output_type": "stream",
     "text": [
      "Sin novedad\n"
     ]
    }
   ],
   "source": [
    "asteroide = 19 \n",
    "\n",
    "if asteroide > 20:\n",
    "    print(\"¡Advertencia! Asteroide entrando a las atmosfera a mas de 20 km/s, Buscar en el cielo el rayo de luz \")\n",
    "elif asteroide == 20:\n",
    "     print(\"¡Advertencia! Asteroide entrando a las atmosfera a 20 km/s , Buscar en el cielo  rayo de luz \") \n",
    "else:\n",
    "      print(\"Sin novedad\")"
   ]
  },
  {
   "cell_type": "markdown",
   "metadata": {},
   "source": [
    "# Agrega el código para crear nuevas variables para la velocidad y el tamaño del asteroide\n",
    "# Para probar el código, prueba con varias velocidades y tamaños\n",
    "# Escribe varias expresiones de prueba o combinaciones de expresiones de prueba para determinar qué mensaje se debe enviar a Tierra."
   ]
  },
  {
   "cell_type": "code",
   "execution_count": 25,
   "metadata": {},
   "outputs": [
    {
     "name": "stdout",
     "output_type": "stream",
     "text": [
      "sin novedad\n"
     ]
    }
   ],
   "source": [
    "DimensionAsteroide = 10\n",
    "VelocidadAsteroide = 10\n",
    "\n",
    "\n",
    "\n",
    "if DimensionAsteroide >25 and VelocidadAsteroide > 25:\n",
    "    print(\"Se acerca un asteroide grandes dimenciones  y alta velocidad \")\n",
    "elif DimensionAsteroide > 25 and VelocidadAsteroide <= 25:\n",
    "   print(\"Se acerca un asteroide grandes dimenciones pero a baja velocidad\") \n",
    "elif VelocidadAsteroide >= 20:\n",
    "   print(\"¡Advertencia! Asteroide entrando a las atmosfera , Buscar en el cielo  rayo de luz  \") \n",
    "else:\n",
    "    print(\"sin novedad\")\n",
    "\n",
    "\n"
   ]
  }
 ],
 "metadata": {
  "interpreter": {
   "hash": "6ba819df70a6ce1432d5a7f6d8a36999b7e9e87a529f29218f0f73d829a8e8a6"
  },
  "kernelspec": {
   "display_name": "Python 3.10.2 ('env': venv)",
   "language": "python",
   "name": "python3"
  },
  "language_info": {
   "codemirror_mode": {
    "name": "ipython",
    "version": 3
   },
   "file_extension": ".py",
   "mimetype": "text/x-python",
   "name": "python",
   "nbconvert_exporter": "python",
   "pygments_lexer": "ipython3",
   "version": "3.10.2"
  },
  "orig_nbformat": 4
 },
 "nbformat": 4,
 "nbformat_minor": 2
}
